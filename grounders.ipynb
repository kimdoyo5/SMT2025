{
 "cells": [
  {
   "cell_type": "code",
   "execution_count": null,
   "id": "e1464a6a",
   "metadata": {},
   "outputs": [],
   "source": [
    "import pandas as pd\n",
    "import numpy as np\n",
    "\n",
    "events = pd.read_csv(\"game_events_combined.csv\")\n",
    "ball_pos = pd.read_csv(\"ball_pos_combined.csv\")\n",
    "\n",
    "# Helper Function for Infield\n",
    "def is_in_infield(x, y):\n",
    "    if pd.isna(x) or pd.isna(y):\n",
    "        return False\n",
    "    dist = np.sqrt(x**2 + y**2)\n",
    "    angle_deg = np.degrees(np.arctan2(x, y))\n",
    "    return (dist <= 95) and (-75 <= angle_deg <= 75)\n",
    "\n",
    "#Get hits and first bounce per play\n",
    "hits = events[events[\"event_code\"] == 4][[\"game_str\", \"play_id\", \"timestamp\"]].rename(columns={\"timestamp\": \"hit_time\"})\n",
    "bounces = events[events[\"event_code\"] == 16][[\"game_str\", \"play_id\", \"timestamp\"]].rename(columns={\"timestamp\": \"bounce_time\"})\n",
    "first_bounce = bounces.sort_values(\"bounce_time\").drop_duplicates(subset=[\"game_str\", \"play_id\"], keep=\"first\")\n",
    "\n",
    "# Merge and ensure bounce is after hit\n",
    "merged = hits.merge(first_bounce, on=[\"game_str\", \"play_id\"], how=\"inner\")\n",
    "merged = merged[merged[\"bounce_time\"] > merged[\"hit_time\"]]\n",
    "\n",
    "#Get ball position at first bounce\n",
    "bounce_with_pos = merged.merge(\n",
    "    ball_pos[[\"game_str\", \"play_id\", \"timestamp\", \"ball_position_x\", \"ball_position_y\"]],\n",
    "    left_on=[\"game_str\", \"play_id\", \"bounce_time\"],\n",
    "    right_on=[\"game_str\", \"play_id\", \"timestamp\"],\n",
    "    how=\"left\"\n",
    ")\n",
    "\n",
    "# Filter to only bounces that landed in the infield\n",
    "bounce_with_pos[\"infield_bounce\"] = bounce_with_pos.apply(\n",
    "    lambda row: is_in_infield(row[\"ball_position_x\"], row[\"ball_position_y\"]),\n",
    "    axis=1\n",
    ")\n",
    "bounce_with_pos = bounce_with_pos[bounce_with_pos[\"infield_bounce\"]]\n",
    "\n",
    "# Get first acquisition per play\n",
    "acquisitions = events[events[\"event_code\"] == 2][[\"game_str\", \"play_id\", \"timestamp\", \"player_position\"]]\n",
    "first_acq = acquisitions.sort_values(\"timestamp\").drop_duplicates(subset=[\"game_str\", \"play_id\"], keep=\"first\")\n",
    "\n",
    "# Only keep plays where the first acquisition was by an infielder / pitcher / catcher\n",
    "infield_positions = [1, 2, 3, 4, 5, 6]\n",
    "first_acq[\"fielder_is_inf\"] = first_acq[\"player_position\"].isin(infield_positions)\n",
    "first_acq = first_acq[first_acq[\"fielder_is_inf\"]]\n",
    "\n",
    "# Merge final valid plays\n",
    "valid_bounces = bounce_with_pos.merge(\n",
    "    first_acq[[\"game_str\", \"play_id\"]],\n",
    "    on=[\"game_str\", \"play_id\"],\n",
    "    how=\"inner\"\n",
    ").drop_duplicates(subset=[\"game_str\", \"play_id\"])\n"
   ]
  },
  {
   "cell_type": "code",
   "execution_count": null,
   "id": "0f41616c",
   "metadata": {},
   "outputs": [],
   "source": [
    "valid_bounces = valid_bounces.drop(columns=[\"timestamp\"])\n",
    "valid_bounces = valid_bounces.rename(columns={\"bounce_time\": \"bounce_timestamp\"})"
   ]
  },
  {
   "cell_type": "code",
   "execution_count": 18,
   "id": "782ae078",
   "metadata": {},
   "outputs": [],
   "source": [
    "valid_bounces.to_csv(\"grounders.csv\")"
   ]
  }
 ],
 "metadata": {
  "kernelspec": {
   "display_name": "Python 3",
   "language": "python",
   "name": "python3"
  },
  "language_info": {
   "codemirror_mode": {
    "name": "ipython",
    "version": 3
   },
   "file_extension": ".py",
   "mimetype": "text/x-python",
   "name": "python",
   "nbconvert_exporter": "python",
   "pygments_lexer": "ipython3",
   "version": "3.13.2"
  }
 },
 "nbformat": 4,
 "nbformat_minor": 5
}
