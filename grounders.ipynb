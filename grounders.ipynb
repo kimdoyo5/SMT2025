{
 "cells": [
  {
   "cell_type": "code",
   "execution_count": null,
   "id": "5d317342",
   "metadata": {},
   "outputs": [],
   "source": [
    "import pandas as pd\n",
    "\n",
    "# Load event and position data\n",
    "events = pd.read_csv(\"game_events_combined.csv\")\n",
    "ball_pos = pd.read_csv(\"ball_pos_combined.csv\")\n",
    "\n",
    "# Define function for infield bounds (adjust as needed)\n",
    "def is_in_infield(x, y):\n",
    "    return (-30 <= x <= 30) and (0 <= y <= 95)\n",
    "\n",
    "# Get all 'hit into play' events\n",
    "hits = events[events[\"event_code\"] == 4][[\"game_str\", \"play_id\", \"timestamp\"]].rename(columns={\"timestamp\": \"hit_time\"})\n",
    "\n",
    "# Get all 'bounce' events\n",
    "bounces = events[events[\"event_code\"] == 16][[\"game_str\", \"play_id\", \"timestamp\"]].rename(columns={\"timestamp\": \"bounce_time\"})\n",
    "\n",
    "# Get first bounce per play\n",
    "first_bounce = bounces.sort_values(\"bounce_time\").drop_duplicates(subset=[\"game_str\", \"play_id\"], keep=\"first\")\n",
    "\n",
    "# Merge hits with first bounce\n",
    "merged = hits.merge(first_bounce, on=[\"game_str\", \"play_id\"], how=\"inner\")\n",
    "merged = merged[merged[\"bounce_time\"] > merged[\"hit_time\"]]\n",
    "\n",
    "# Join with ball_pos to get coordinates of the bounce\n",
    "bounce_with_pos = merged.merge(\n",
    "    ball_pos[[\"game_str\", \"play_id\", \"timestamp\", \"ball_position_x\", \"ball_position_y\"]],\n",
    "    left_on=[\"game_str\", \"play_id\", \"bounce_time\"],\n",
    "    right_on=[\"game_str\", \"play_id\", \"timestamp\"],\n",
    "    how=\"left\"\n",
    ")\n",
    "\n",
    "# Check if the bounce was in the infield\n",
    "bounce_with_pos[\"infield_bounce\"] = bounce_with_pos.apply(\n",
    "    lambda row: is_in_infield(row[\"ball_position_x\"], row[\"ball_position_y\"]),\n",
    "    axis=1\n",
    ")\n",
    "\n",
    "# Final result — hits where the first bounce was in the infield\n",
    "infield_hits = bounce_with_pos[bounce_with_pos[\"infield_bounce\"]].drop_duplicates(subset=[\"game_str\", \"play_id\"])\n"
   ]
  },
  {
   "cell_type": "code",
   "execution_count": 19,
   "id": "944cbb60",
   "metadata": {},
   "outputs": [
    {
     "name": "stdout",
     "output_type": "stream",
     "text": [
      "             game_str  play_id  hit_time  bounce_time   timestamp  \\\n",
      "1     y1_d069_ACN_QEA       19    632253       632453    632453.0   \n",
      "4     y1_d069_ACN_QEA       46   1728503      1728603   1728603.0   \n",
      "5     y1_d069_ACN_QEA       49   1789903      1790003   1790003.0   \n",
      "6     y1_d069_ACN_QEA       67   2499503      2499553   2499553.0   \n",
      "7     y1_d069_ACN_QEA       78   2811503      2811853   2811853.0   \n",
      "...               ...      ...       ...          ...         ...   \n",
      "8860  y1_d058_WZR_YJD      314  11358949     11359279  11359279.0   \n",
      "8862  y1_d058_WZR_YJD      320  11506228     11506558  11506558.0   \n",
      "8863  y1_d058_WZR_YJD      324  11750494     11751187  11751187.0   \n",
      "8864  y1_d058_WZR_YJD      325  11794286     11794385  11794385.0   \n",
      "8865  y1_d058_WZR_YJD      330  12025847     12025946  12025946.0   \n",
      "\n",
      "      ball_position_x  ball_position_y  infield_bounce  \n",
      "1            20.21193          31.1913            True  \n",
      "4             2.94990          15.8268            True  \n",
      "5             0.57720          20.7297            True  \n",
      "6            -0.32790           6.3573            True  \n",
      "7             8.37141          42.3444            True  \n",
      "...               ...              ...             ...  \n",
      "8860          4.21587          38.7717            True  \n",
      "8862         17.05944          34.6536            True  \n",
      "8863         -7.51245          81.3015            True  \n",
      "8864          8.03940          10.0380            True  \n",
      "8865          0.13290          16.2009            True  \n",
      "\n",
      "[4923 rows x 8 columns]\n"
     ]
    }
   ],
   "source": [
    "print(infield_hits)\n",
    "infield_hits.to_csv('grounders.csv')\n"
   ]
  },
  {
   "cell_type": "code",
   "execution_count": null,
   "id": "91393d6e",
   "metadata": {},
   "outputs": [],
   "source": []
  }
 ],
 "metadata": {
  "kernelspec": {
   "display_name": "Python 3",
   "language": "python",
   "name": "python3"
  },
  "language_info": {
   "codemirror_mode": {
    "name": "ipython",
    "version": 3
   },
   "file_extension": ".py",
   "mimetype": "text/x-python",
   "name": "python",
   "nbconvert_exporter": "python",
   "pygments_lexer": "ipython3",
   "version": "3.13.2"
  }
 },
 "nbformat": 4,
 "nbformat_minor": 5
}
