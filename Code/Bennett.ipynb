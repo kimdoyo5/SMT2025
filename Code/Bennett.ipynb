{
 "cells": [
  {
   "cell_type": "code",
   "execution_count": null,
   "id": "74c4b835",
   "metadata": {},
   "outputs": [],
   "source": [
    "# Imports & readDataSubset()\n",
    "import pandas as pd\n",
    "import numpy as np\n",
    "from SMT_Data_Starter_2025 import readDataSubset\n",
    "import matplotlib.pyplot as plt\n",
    "from matplotlib import font_manager as fm\n",
    "\n",
    "# # Load fonts\n",
    "# font_path = r\"C:\"\n",
    "# fm.fontManager.addfont(font_path)\n",
    "# plt.rcParams['font.family'] = 'Helvetica'\n",
    "\n",
    "# Just get the subsets out of the way\n",
    "game_info_subset = readDataSubset('game_info')\n",
    "game_events_subset = readDataSubset('game_events')\n",
    "player_position_subset = readDataSubset('player_pos')\n",
    "ball_position_subset = readDataSubset('ball_pos')"
   ]
  },
  {
   "cell_type": "code",
   "execution_count": 2,
   "id": "c8b240ab",
   "metadata": {},
   "outputs": [],
   "source": [
    "# Load CSV's\n",
    "analysis = pd.read_csv('../CSV/analysis.csv')\n",
    "wouldbe = pd.read_csv('../CSV/wouldbe.csv')"
   ]
  },
  {
   "cell_type": "code",
   "execution_count": 3,
   "id": "61d54ded",
   "metadata": {},
   "outputs": [
    {
     "data": {
      "text/html": [
       "<div>\n",
       "<style scoped>\n",
       "    .dataframe tbody tr th:only-of-type {\n",
       "        vertical-align: middle;\n",
       "    }\n",
       "\n",
       "    .dataframe tbody tr th {\n",
       "        vertical-align: top;\n",
       "    }\n",
       "\n",
       "    .dataframe thead th {\n",
       "        text-align: right;\n",
       "    }\n",
       "</style>\n",
       "<table border=\"1\" class=\"dataframe\">\n",
       "  <thead>\n",
       "    <tr style=\"text-align: right;\">\n",
       "      <th></th>\n",
       "      <th>game_str</th>\n",
       "      <th>play_id</th>\n",
       "      <th>batter</th>\n",
       "      <th>hand</th>\n",
       "      <th>mean_hustle_plus</th>\n",
       "      <th>mean_effort</th>\n",
       "      <th>pr_safe_baseline</th>\n",
       "      <th>stretch_by_1st_saved_ms</th>\n",
       "      <th>pr_safe_wouldbe_mean</th>\n",
       "      <th>pr_safe_wouldbe_max</th>\n",
       "      <th>pr_safe_wouldbe_med</th>\n",
       "      <th>nth_throw</th>\n",
       "      <th>safe</th>\n",
       "      <th>advanced</th>\n",
       "      <th>time_lost</th>\n",
       "      <th>spd_sm_mapsoft_theta</th>\n",
       "      <th>acc_5to10_95th</th>\n",
       "    </tr>\n",
       "  </thead>\n",
       "  <tbody>\n",
       "    <tr>\n",
       "      <th>0</th>\n",
       "      <td>y1_d001_CGA_QEA</td>\n",
       "      <td>21.0</td>\n",
       "      <td>CGA-1824</td>\n",
       "      <td>R</td>\n",
       "      <td>135.275281</td>\n",
       "      <td>96.97835</td>\n",
       "      <td>0.99818</td>\n",
       "      <td>15.149842</td>\n",
       "      <td>0.724288</td>\n",
       "      <td>0.999985</td>\n",
       "      <td>0.935293</td>\n",
       "      <td>2</td>\n",
       "      <td>True</td>\n",
       "      <td>False</td>\n",
       "      <td>0.0</td>\n",
       "      <td>29.039858</td>\n",
       "      <td>23.519888</td>\n",
       "    </tr>\n",
       "  </tbody>\n",
       "</table>\n",
       "</div>"
      ],
      "text/plain": [
       "          game_str  play_id    batter hand  mean_hustle_plus  mean_effort  \\\n",
       "0  y1_d001_CGA_QEA     21.0  CGA-1824    R        135.275281     96.97835   \n",
       "\n",
       "   pr_safe_baseline  stretch_by_1st_saved_ms  pr_safe_wouldbe_mean  \\\n",
       "0           0.99818                15.149842              0.724288   \n",
       "\n",
       "   pr_safe_wouldbe_max  pr_safe_wouldbe_med  nth_throw  safe  advanced  \\\n",
       "0             0.999985             0.935293          2  True     False   \n",
       "\n",
       "   time_lost  spd_sm_mapsoft_theta  acc_5to10_95th  \n",
       "0        0.0             29.039858       23.519888  "
      ]
     },
     "execution_count": 3,
     "metadata": {},
     "output_type": "execute_result"
    }
   ],
   "source": [
    "analysis.head(1)"
   ]
  },
  {
   "cell_type": "code",
   "execution_count": 4,
   "id": "06c4e3a8",
   "metadata": {},
   "outputs": [
    {
     "data": {
      "text/html": [
       "<div>\n",
       "<style scoped>\n",
       "    .dataframe tbody tr th:only-of-type {\n",
       "        vertical-align: middle;\n",
       "    }\n",
       "\n",
       "    .dataframe tbody tr th {\n",
       "        vertical-align: top;\n",
       "    }\n",
       "\n",
       "    .dataframe thead th {\n",
       "        text-align: right;\n",
       "    }\n",
       "</style>\n",
       "<table border=\"1\" class=\"dataframe\">\n",
       "  <thead>\n",
       "    <tr style=\"text-align: right;\">\n",
       "      <th></th>\n",
       "      <th>game_str</th>\n",
       "      <th>play_id</th>\n",
       "      <th>timestamp</th>\n",
       "      <th>startrun_ts</th>\n",
       "      <th>time_lost</th>\n",
       "      <th>spd_sm_mapsoft_theta</th>\n",
       "      <th>acc_5to10_95th</th>\n",
       "      <th>ft_til_1st_sm</th>\n",
       "      <th>spd_to_1st_sm</th>\n",
       "      <th>shouldstartrun_ts</th>\n",
       "      <th>E_itsx_ts</th>\n",
       "      <th>E_catch_ts</th>\n",
       "      <th>wouldbe_ft_til_1st_itsx_ifmax</th>\n",
       "      <th>wouldbe_ft_til_1st_itsx_ifmed</th>\n",
       "      <th>wouldbe_ft_til_1st_catch_ifmax</th>\n",
       "      <th>wouldbe_ft_til_1st_catch_ifmed</th>\n",
       "      <th>wouldbe_ft_til_1st_itsx_ifmean</th>\n",
       "      <th>wouldbe_ft_til_1st_catch_ifmean</th>\n",
       "    </tr>\n",
       "  </thead>\n",
       "  <tbody>\n",
       "    <tr>\n",
       "      <th>0</th>\n",
       "      <td>y1_d001_CGA_QEA</td>\n",
       "      <td>21.0</td>\n",
       "      <td>560749</td>\n",
       "      <td>560749.0</td>\n",
       "      <td>0.0</td>\n",
       "      <td>29.039858</td>\n",
       "      <td>23.519888</td>\n",
       "      <td>91.276741</td>\n",
       "      <td>5.896027</td>\n",
       "      <td>560749.0</td>\n",
       "      <td>5.645998e+05</td>\n",
       "      <td>5.646814e+05</td>\n",
       "      <td>-4.404517</td>\n",
       "      <td>2.110627</td>\n",
       "      <td>-4.961859</td>\n",
       "      <td>1.588369</td>\n",
       "      <td>4.927117</td>\n",
       "      <td>4.492168</td>\n",
       "    </tr>\n",
       "    <tr>\n",
       "      <th>1</th>\n",
       "      <td>y1_d001_CGA_QEA</td>\n",
       "      <td>138.0</td>\n",
       "      <td>5241255</td>\n",
       "      <td>5241255.0</td>\n",
       "      <td>0.0</td>\n",
       "      <td>28.558183</td>\n",
       "      <td>22.186154</td>\n",
       "      <td>87.722112</td>\n",
       "      <td>2.533099</td>\n",
       "      <td>5241255.0</td>\n",
       "      <td>5.244105e+06</td>\n",
       "      <td>5.244261e+06</td>\n",
       "      <td>29.330748</td>\n",
       "      <td>33.772452</td>\n",
       "      <td>25.210217</td>\n",
       "      <td>30.013977</td>\n",
       "      <td>35.489567</td>\n",
       "      <td>31.916538</td>\n",
       "    </tr>\n",
       "  </tbody>\n",
       "</table>\n",
       "</div>"
      ],
      "text/plain": [
       "          game_str  play_id  timestamp  startrun_ts  time_lost  \\\n",
       "0  y1_d001_CGA_QEA     21.0     560749     560749.0        0.0   \n",
       "1  y1_d001_CGA_QEA    138.0    5241255    5241255.0        0.0   \n",
       "\n",
       "   spd_sm_mapsoft_theta  acc_5to10_95th  ft_til_1st_sm  spd_to_1st_sm  \\\n",
       "0             29.039858       23.519888      91.276741       5.896027   \n",
       "1             28.558183       22.186154      87.722112       2.533099   \n",
       "\n",
       "   shouldstartrun_ts     E_itsx_ts    E_catch_ts  \\\n",
       "0           560749.0  5.645998e+05  5.646814e+05   \n",
       "1          5241255.0  5.244105e+06  5.244261e+06   \n",
       "\n",
       "   wouldbe_ft_til_1st_itsx_ifmax  wouldbe_ft_til_1st_itsx_ifmed  \\\n",
       "0                      -4.404517                       2.110627   \n",
       "1                      29.330748                      33.772452   \n",
       "\n",
       "   wouldbe_ft_til_1st_catch_ifmax  wouldbe_ft_til_1st_catch_ifmed  \\\n",
       "0                       -4.961859                        1.588369   \n",
       "1                       25.210217                       30.013977   \n",
       "\n",
       "   wouldbe_ft_til_1st_itsx_ifmean  wouldbe_ft_til_1st_catch_ifmean  \n",
       "0                        4.927117                         4.492168  \n",
       "1                       35.489567                        31.916538  "
      ]
     },
     "execution_count": 4,
     "metadata": {},
     "output_type": "execute_result"
    }
   ],
   "source": [
    "wouldbe.head(2)"
   ]
  },
  {
   "cell_type": "code",
   "execution_count": 12,
   "id": "bdd13998",
   "metadata": {},
   "outputs": [
    {
     "data": {
      "text/plain": [
       "(array([ 16.,  39.,  81., 141., 191., 262., 388., 575., 638., 489.]),\n",
       " array([  1.64009971,  11.47608974,  21.31207977,  31.1480698 ,\n",
       "         40.98405982,  50.82004985,  60.65603988,  70.49202991,\n",
       "         80.32801994,  90.16400997, 100.        ]),\n",
       " <BarContainer object of 10 artists>)"
      ]
     },
     "execution_count": 12,
     "metadata": {},
     "output_type": "execute_result"
    },
    {
     "data": {
      "image/png": "[encoded data removed]",
      "text/plain": [
       "<Figure size 300x300 with 1 Axes>"
      ]
     },
     "metadata": {},
     "output_type": "display_data"
    }
   ],
   "source": [
    "# Make sure to use viridis color scheme\n",
    "# Like the paper\n",
    "cmap = plt.get_cmap('viridis')\n",
    "NUM_COLORS = 3  # Chance this to get more/less colors\n",
    "colors = [cmap(i) for i in np.linspace(0,1,NUM_COLORS)]\n",
    "# Example usage\n",
    "plt.figure(figsize=(3,3))\n",
    "plt.hist(analysis['mean_effort'], color=colors[2])"
   ]
  },
  {
   "cell_type": "code",
   "execution_count": 10,
   "id": "353cfc6d",
   "metadata": {},
   "outputs": [],
   "source": [
    "# Top/Bottom 10 (or 5?) Hustle+\n",
    "# Make sure to color code well"
   ]
  },
  {
   "cell_type": "code",
   "execution_count": 11,
   "id": "852de886",
   "metadata": {},
   "outputs": [],
   "source": [
    "# Top/Bottom 10 (or 5?) Safe Probability Added\n",
    "# Make sure to color code well"
   ]
  }
 ],
 "metadata": {
  "kernelspec": {
   "display_name": "base",
   "language": "python",
   "name": "python3"
  },
  "language_info": {
   "codemirror_mode": {
    "name": "ipython",
    "version": 3
   },
   "file_extension": ".py",
   "mimetype": "text/x-python",
   "name": "python",
   "nbconvert_exporter": "python",
   "pygments_lexer": "ipython3",
   "version": "3.12.2"
  }
 },
 "nbformat": 4,
 "nbformat_minor": 5
}
