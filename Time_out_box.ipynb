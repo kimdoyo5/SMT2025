{
 "cells": [
  {
   "cell_type": "code",
   "execution_count": 200,
   "id": "34354415-d33e-4d8f-901e-095fd3bd65ee",
   "metadata": {},
   "outputs": [
    {
     "name": "stdout",
     "output_type": "stream",
     "text": [
      "Requirement already satisfied: sportypy in /Users/bmoore22/.pyenv/versions/3.10.13/lib/python3.10/site-packages (1.0.0)\n",
      "Requirement already satisfied: scipy in /Users/bmoore22/.pyenv/versions/3.10.13/lib/python3.10/site-packages (from sportypy) (1.15.2)\n",
      "Requirement already satisfied: numpy in /Users/bmoore22/.pyenv/versions/3.10.13/lib/python3.10/site-packages (from sportypy) (2.1.1)\n",
      "Requirement already satisfied: pandas in /Users/bmoore22/.pyenv/versions/3.10.13/lib/python3.10/site-packages (from sportypy) (2.2.3)\n",
      "Requirement already satisfied: matplotlib in /Users/bmoore22/.pyenv/versions/3.10.13/lib/python3.10/site-packages (from sportypy) (3.10.1)\n",
      "Requirement already satisfied: contourpy>=1.0.1 in /Users/bmoore22/.pyenv/versions/3.10.13/lib/python3.10/site-packages (from matplotlib->sportypy) (1.3.2)\n",
      "Requirement already satisfied: kiwisolver>=1.3.1 in /Users/bmoore22/.pyenv/versions/3.10.13/lib/python3.10/site-packages (from matplotlib->sportypy) (1.4.8)\n",
      "Requirement already satisfied: python-dateutil>=2.7 in /Users/bmoore22/.pyenv/versions/3.10.13/lib/python3.10/site-packages (from matplotlib->sportypy) (2.9.0.post0)\n",
      "Requirement already satisfied: cycler>=0.10 in /Users/bmoore22/.pyenv/versions/3.10.13/lib/python3.10/site-packages (from matplotlib->sportypy) (0.12.1)\n",
      "Requirement already satisfied: fonttools>=4.22.0 in /Users/bmoore22/.pyenv/versions/3.10.13/lib/python3.10/site-packages (from matplotlib->sportypy) (4.57.0)\n",
      "Requirement already satisfied: pillow>=8 in /Users/bmoore22/.pyenv/versions/3.10.13/lib/python3.10/site-packages (from matplotlib->sportypy) (11.2.1)\n",
      "Requirement already satisfied: pyparsing>=2.3.1 in /Users/bmoore22/.pyenv/versions/3.10.13/lib/python3.10/site-packages (from matplotlib->sportypy) (3.2.3)\n",
      "Requirement already satisfied: packaging>=20.0 in /Users/bmoore22/.pyenv/versions/3.10.13/lib/python3.10/site-packages (from matplotlib->sportypy) (25.0)\n",
      "Requirement already satisfied: pytz>=2020.1 in /Users/bmoore22/.pyenv/versions/3.10.13/lib/python3.10/site-packages (from pandas->sportypy) (2025.2)\n",
      "Requirement already satisfied: tzdata>=2022.7 in /Users/bmoore22/.pyenv/versions/3.10.13/lib/python3.10/site-packages (from pandas->sportypy) (2025.2)\n",
      "Requirement already satisfied: six>=1.5 in /Users/bmoore22/.pyenv/versions/3.10.13/lib/python3.10/site-packages (from python-dateutil>=2.7->matplotlib->sportypy) (1.17.0)\n",
      "\n",
      "\u001b[1m[\u001b[0m\u001b[34;49mnotice\u001b[0m\u001b[1;39;49m]\u001b[0m\u001b[39;49m A new release of pip is available: \u001b[0m\u001b[31;49m23.0.1\u001b[0m\u001b[39;49m -> \u001b[0m\u001b[32;49m25.1.1\u001b[0m\n",
      "\u001b[1m[\u001b[0m\u001b[34;49mnotice\u001b[0m\u001b[1;39;49m]\u001b[0m\u001b[39;49m To update, run: \u001b[0m\u001b[32;49mpip install --upgrade pip\u001b[0m\n"
     ]
    }
   ],
   "source": [
    "! pip install sportypy\n",
    "\n",
    "import pandas as pd\n",
    "import numpy as np\n",
    "import sportypy\n",
    "import matplotlib.pyplot as plt\n",
    "import pyarrow.dataset as pads\n",
    "import pyarrow.csv as pacsv\n",
    "from SMT_Data_Starter_2025 import readDataSubset\n",
    "from IPython.display import display\n",
    "import matplotlib.pyplot as plt"
   ]
  },
  {
   "cell_type": "code",
   "execution_count": 201,
   "id": "5e4f4e7f-4241-4ba1-ace3-44d055a137eb",
   "metadata": {},
   "outputs": [],
   "source": [
    "#reading in subsets\n",
    "game_info_subset = readDataSubset('game_info')\n",
    "game_events_subset = readDataSubset('game_events')\n",
    "player_position_subset = readDataSubset('player_pos')\n",
    "ball_position_subset = readDataSubset('ball_pos')"
   ]
  },
  {
   "cell_type": "code",
   "execution_count": 202,
   "id": "9048a680-f160-45c6-9d1f-e055d0bb0fca",
   "metadata": {},
   "outputs": [],
   "source": [
    "#merging positioning data with grounders csv\n",
    "player_position = player_position_subset.to_table(filter = (pads.field('player_position') == 10)).to_pandas()\n",
    "grounders_df = pd.read_csv(\"grounders.csv\")\n",
    "filtered_df = player_position.merge(grounders_df[['game_str', 'play_id']],on=['game_str', 'play_id'],how='inner')\n",
    "\n",
    "#mapping play_per_game to play_id then merging \n",
    "game_events = game_events_subset.to_table().select(['play_id', 'play_per_game']).to_pandas()\n",
    "play_per_game_map = game_events.drop_duplicates('play_id').set_index('play_id')['play_per_game']\n",
    "filtered_df['play_per_game'] = filtered_df['play_id'].map(play_per_game_map)\n",
    "\n",
    "#merging hitter IDs with grounders on the infield \n",
    "player_df = game_info_subset.to_table().select(['game_str','play_per_game', 'batter']).to_pandas()\n",
    "final_df = filtered_df.merge(player_df[['game_str', 'play_per_game', 'batter']],on=['game_str', 'play_per_game'],how='inner')\n",
    "#adding euclidian distance from home plate\n",
    "final_df['distance_from_plate'] = np.sqrt((final_df['field_x'] - 0)**2 + (final_df['field_y'] - 0)**2)\n",
    "\n",
    "\n",
    "\n",
    "\n",
    "\n"
   ]
  },
  {
   "cell_type": "code",
   "execution_count": 203,
   "id": "c55e9b92-9114-4e0b-9499-74b3b0e0efc2",
   "metadata": {},
   "outputs": [],
   "source": [
    "#num_players_above_20 = (player_counts['play_count'] >20).sum()\n",
    "#print(num_players_above_20)\n",
    "\n",
    "#print(final_df)"
   ]
  },
  {
   "cell_type": "code",
   "execution_count": 204,
   "id": "9edc9bca-d7c1-41d6-82ba-83efd6a6fc3f",
   "metadata": {},
   "outputs": [],
   "source": [
    "#gathering info from each plays starting frame\n",
    "initial_info = (\n",
    "    final_df.sort_values(['game_str', 'play_id', 'timestamp'])\n",
    "    .groupby(['game_str', 'play_id'])\n",
    "    .first()\n",
    "    .reset_index()[['game_str', 'play_id', 'timestamp', 'field_x', 'distance_from_plate']]\n",
    "    .rename(columns={\n",
    "        'timestamp': 'initial_timestamp',\n",
    "        'field_x': 'x0',\n",
    "        'distance_from_plate': 'initial_distance_from_plate'\n",
    "    })\n",
    ")\n",
    "\n",
    "#add handedness based on initial x position\n",
    "initial_info['handedness'] = initial_info['x0'].apply(lambda x:'R' if x<0 else 'L')\n",
    "\n",
    "#compute speed in final_df for calculating start time\n",
    "final_df = final_df.sort_values(['game_str', 'play_id', 'timestamp'])\n",
    "\n",
    "final_df['dx'] = final_df.groupby(['game_str', 'play_id'])['field_x'].diff()\n",
    "final_df['dy'] = final_df.groupby(['game_str', 'play_id'])['field_y'].diff()\n",
    "final_df['speed'] = np.sqrt(final_df['dx']**2 + final_df['dy']**2)\n",
    "\n",
    "# Identify sustained movement  (3 frames where speed > 0.2)\n",
    "final_df['moving'] = final_df['speed'] > 0.2\n",
    "\n",
    "final_df['sustained_movement'] = (\n",
    "    final_df.groupby(['game_str', 'play_id'])['moving']\n",
    "    .transform(lambda x: x.rolling(window=3, min_periods=1).sum() >= 3)\n",
    ")\n",
    "\n",
    "# find first frame of sustained movement\n",
    "initial_movement = (\n",
    "    final_df[final_df['sustained_movement']]\n",
    "    .sort_values(['game_str', 'play_id', 'timestamp'])\n",
    "    .groupby(['game_str', 'play_id'])\n",
    "    .first()\n",
    "    .reset_index()[['game_str', 'play_id', 'timestamp']]\n",
    "    .rename(columns={'timestamp': 'initial_movement_timestamp'})\n",
    ")\n",
    "\n",
    "#merge data\n",
    "initial_info = initial_info.merge(initial_movement, on=['game_str', 'play_id'], how='left')\n",
    "final_df = final_df.merge(initial_info, on=['game_str', 'play_id'], how='left')\n",
    "\n",
    "\n",
    "final_df.to_csv('runner_positions.csv', index=False)\n",
    "\n",
    "\n"
   ]
  },
  {
   "cell_type": "code",
   "execution_count": 205,
   "id": "d2ca8cbd-146e-4f8e-a916-af2e8110288f",
   "metadata": {},
   "outputs": [],
   "source": [
    "#print(final_df)\n",
    "#handedness_counts = initial_info['handedness'].value_counts()\n",
    "#print(handedness_counts)"
   ]
  },
  {
   "cell_type": "code",
   "execution_count": 206,
   "id": "69192656-ec55-4485-a1f8-6ebcfd653ada",
   "metadata": {},
   "outputs": [],
   "source": [
    "#handedness_counts = initial_info['handedness'].value_counts()\n",
    "#print(handedness_counts)\n"
   ]
  },
  {
   "cell_type": "code",
   "execution_count": 207,
   "id": "6b5ea184-ba57-40e9-8c97-b338d174ac61",
   "metadata": {},
   "outputs": [
    {
     "name": "stdout",
     "output_type": "stream",
     "text": [
      "             game_str  play_id    batter handedness  time_out_of_box\n",
      "0     y1_d001_CGA_QEA       21  CGA-1824          R            350.0\n",
      "1     y1_d001_CGA_QEA       26  CGA-1353          L            150.0\n",
      "2     y1_d001_CGA_QEA      124  QEA-0180          L            300.0\n",
      "3     y1_d001_CGA_QEA      136  QEA-0071          L              0.0\n",
      "4     y1_d001_CGA_QEA      138  CGA-2010          L            400.0\n",
      "...               ...      ...       ...        ...              ...\n",
      "3952  y2_d098_YJD_RZQ      201  YJD-0132          R            500.0\n",
      "3953  y2_d098_YJD_RZQ      204  YJD-0373          L            250.0\n",
      "3954  y2_d098_YJD_RZQ      245  RZQ-0328          L            650.0\n",
      "3955  y2_d098_YJD_RZQ      258  RZQ-0275          L            100.0\n",
      "3956  y2_d098_YJD_RZQ      284  RZQ-0328          L            800.0\n",
      "\n",
      "[3957 rows x 5 columns]\n"
     ]
    }
   ],
   "source": [
    "#finding distance traveled from initial position\n",
    "final_df['distance_from_start'] = final_df['distance_from_plate'] - final_df['initial_distance_from_plate']\n",
    "\n",
    "#changing threshold for distance travelled based on handedness\n",
    "final_df['threshold'] = np.where(\n",
    "    final_df['handedness'] == 'R',\n",
    "    5 - final_df['initial_distance_from_plate'],\n",
    "    5\n",
    ")\n",
    "\n",
    "#Find frame where the distance croses the threshold\n",
    "exit_df = (\n",
    "    final_df[final_df['distance_from_start'] >= final_df['threshold']]\n",
    "    .sort_values(['game_str', 'play_id', 'timestamp'])\n",
    "    .groupby(['game_str', 'play_id'])\n",
    "    .first()\n",
    "    .reset_index()\n",
    ")\n",
    "\n",
    "# find time_out_of_box\n",
    "exit_df['time_out_of_box'] = exit_df['timestamp'] - exit_df['initial_movement_timestamp']\n",
    "\n",
    "# final summary dataframe\n",
    "summary_df = exit_df[['game_str', 'play_id', 'batter', 'handedness', 'time_out_of_box']]\n",
    "\n",
    "\n",
    "print(summary_df)"
   ]
  },
  {
   "cell_type": "code",
   "execution_count": 208,
   "id": "956c6411-0c24-4203-809c-ec3adb157fd9",
   "metadata": {},
   "outputs": [
    {
     "data": {
      "image/png": "[encoded data removed]",
      "text/plain": [
       "<Figure size 640x480 with 1 Axes>"
      ]
     },
     "metadata": {},
     "output_type": "display_data"
    }
   ],
   "source": [
    "plt.hist(summary_df['time_out_of_box'], bins=30, edgecolor='black')\n",
    "plt.title('Distribution of Time Out of Box')\n",
    "plt.xlabel('Time Out of Box (seconds)')\n",
    "plt.ylabel('Number of Plays')\n",
    "plt.show()"
   ]
  },
  {
   "cell_type": "code",
   "execution_count": 209,
   "id": "a2e87d61-1558-4b8c-b9fa-c4cec8d3291f",
   "metadata": {},
   "outputs": [
    {
     "data": {
      "image/png": "[encoded data removed]",
      "text/plain": [
       "<Figure size 640x480 with 1 Axes>"
      ]
     },
     "metadata": {},
     "output_type": "display_data"
    }
   ],
   "source": [
    "avg_times = summary_df.groupby('handedness')['time_out_of_box'].mean().reset_index()\n",
    "sns.barplot(data=avg_times, x='handedness', y='time_out_of_box')\n",
    "plt.title('Average Time Out of Box by Handedness')\n",
    "plt.xlabel('Handedness')\n",
    "plt.ylabel('Average Time Out of Box')\n",
    "plt.show()\n"
   ]
  },
  {
   "cell_type": "code",
   "execution_count": 210,
   "id": "c69d97ec-3faf-4f6c-9665-290807356095",
   "metadata": {},
   "outputs": [
    {
     "name": "stdout",
     "output_type": "stream",
     "text": [
      "      batter  average_time  percentile_90  num_plays\n",
      "0   DYE-0089    394.833333          541.2         12\n",
      "1   DYE-0122    378.500000          590.0         12\n",
      "2   DYE-0130    441.461538          750.0         13\n",
      "3   MRJ-1291    395.000000          615.0         10\n",
      "4   OXG-0079    493.000000          785.0         12\n",
      "..       ...           ...            ...        ...\n",
      "69  YJD-0366    453.777778          750.0         36\n",
      "70  YJD-0373    368.060000          629.3         50\n",
      "71  YJD-0397    346.444444          720.0         27\n",
      "72  YJD-0398    479.090909          650.0         11\n",
      "73  YJD-0405    466.307692          820.0         13\n",
      "\n",
      "[74 rows x 4 columns]\n"
     ]
    }
   ],
   "source": [
    "play_counts = summary_df['batter'].value_counts()\n",
    "eligible_batters = play_counts[play_counts >= 10].index\n",
    "filtered_df = summary_df[summary_df['batter'].isin(eligible_batters)]\n",
    "\n",
    "player_stats = filtered_df.groupby('batter')['time_out_of_box'].agg(\n",
    "    average_time='mean',\n",
    "    percentile_90=lambda x: x.quantile(0.9),\n",
    "    num_plays='count'\n",
    ").reset_index()\n",
    "\n",
    "print(player_stats)\n",
    "\n"
   ]
  },
  {
   "cell_type": "code",
   "execution_count": 211,
   "id": "0ecea7e4-c0f0-4606-a941-5e58b6119533",
   "metadata": {},
   "outputs": [
    {
     "name": "stdout",
     "output_type": "stream",
     "text": [
      "     batter  average_time  percentile_90  num_plays\n",
      "0  QEA-0027    263.363636          600.0         22\n",
      "1  QEA-0180    293.000000          500.0         15\n",
      "2  QEA-0071    297.500000          475.0         20\n",
      "3  RZQ-0385    311.000000          490.0         13\n",
      "4  YJD-0019    311.133333          605.0         30\n",
      "5  YJD-0210    313.333333          400.0         21\n",
      "6  RZQ-0231    318.509434          500.0         53\n",
      "7  RZQ-0279    321.700000          502.8         20\n",
      "8  RZQ-0258    326.315789          510.0         19\n",
      "9  RZQ-0310    332.434783          625.0         46\n"
     ]
    }
   ],
   "source": [
    "fastest_players = player_stats.sort_values('average_time').reset_index(drop=True)\n",
    "print(fastest_players.head(10))"
   ]
  },
  {
   "cell_type": "code",
   "execution_count": null,
   "id": "4bba89ab-48bf-4459-a6ad-c3ebea8f65cc",
   "metadata": {},
   "outputs": [],
   "source": []
  }
 ],
 "metadata": {
  "kernelspec": {
   "display_name": "Python 3 (ipykernel)",
   "language": "python",
   "name": "python3"
  },
  "language_info": {
   "codemirror_mode": {
    "name": "ipython",
    "version": 3
   },
   "file_extension": ".py",
   "mimetype": "text/x-python",
   "name": "python",
   "nbconvert_exporter": "python",
   "pygments_lexer": "ipython3",
   "version": "3.12.7"
  }
 },
 "nbformat": 4,
 "nbformat_minor": 5
}
